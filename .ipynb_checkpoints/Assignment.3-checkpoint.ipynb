{
 "cells": [
  {
   "cell_type": "code",
   "execution_count": 1,
   "id": "bdbc73d8",
   "metadata": {},
   "outputs": [
    {
     "name": "stdout",
     "output_type": "stream",
     "text": [
      "Twinkle,Twinkle,little star,\n",
      "\tHow i wonder what you are\n",
      "\t\tUp above the world so high.\n",
      "\t\tLike a diamond in the sky.\n",
      "Twinkle,twinkle,little star,\n",
      "\tHow i wonder what you are\n"
     ]
    }
   ],
   "source": [
    "print(\"Twinkle,Twinkle,little star,\\n\\tHow i wonder what you are\\n\\t\\tUp above the world so high.\\n\\t\\tLike a diamond in the sky.\\nTwinkle,twinkle,little star,\\n\\tHow i wonder what you are\");"
   ]
  },
  {
   "cell_type": "code",
   "execution_count": 7,
   "id": "8944797e",
   "metadata": {},
   "outputs": [
    {
     "name": "stdout",
     "output_type": "stream",
     "text": [
      "python version\n",
      "3.8.8 (default, Apr 13 2021, 15:08:03) [MSC v.1916 64 bit (AMD64)]\n"
     ]
    }
   ],
   "source": [
    "#Question No 2: get python version\n",
    "import sys \n",
    "print(\"python version\")\n",
    "print(sys.version);"
   ]
  },
  {
   "cell_type": "code",
   "execution_count": 6,
   "id": "630dc9b1",
   "metadata": {},
   "outputs": [
    {
     "name": "stdout",
     "output_type": "stream",
     "text": [
      "today's date:  2021-10-26 20:21:35.640147\n"
     ]
    }
   ],
   "source": [
    "#Question No.3: Date&time\n",
    "from datetime import datetime\n",
    "today = datetime.today();\n",
    "print(\"today's date: \",today);"
   ]
  },
  {
   "cell_type": "code",
   "execution_count": 48,
   "id": "26fe14f6",
   "metadata": {},
   "outputs": [
    {
     "name": "stdout",
     "output_type": "stream",
     "text": [
      "Enter redius number: 10\n",
      "area of circle is : 314.2\n"
     ]
    }
   ],
   "source": [
    "#Question No.4 Accept the  radius of a circle \n",
    "redius = int(input(\"Enter redius number: \"));\n",
    "area = 3.142*redius**2;\n",
    "print(\"area of circle is :\",area);\n"
   ]
  },
  {
   "cell_type": "code",
   "execution_count": 1,
   "id": "93214588",
   "metadata": {},
   "outputs": [
    {
     "name": "stdout",
     "output_type": "stream",
     "text": [
      "Enter first name: saeed\n",
      "Enter last name: anwer\n",
      "anwer saeed\n"
     ]
    }
   ],
   "source": [
    "#Question No.5 print first and last name in revers order\n",
    "first_Name = input(\"Enter first name: \");\n",
    "last_Name = input(\"Enter last name: \");\n",
    "name = last_Name +\" \"+ first_Name;\n",
    "print(name)"
   ]
  },
  {
   "cell_type": "code",
   "execution_count": 3,
   "id": "aee96287",
   "metadata": {},
   "outputs": [
    {
     "name": "stdout",
     "output_type": "stream",
     "text": [
      "Enter your first number: 12\n",
      "Enter your second number: 12\n",
      "Answer:  24\n"
     ]
    }
   ],
   "source": [
    "#Question No.6 take input and print them addition\n",
    "first_number = int(input(\"Enter your first number: \"));\n",
    "second_number = int(input(\"Enter your second number: \"));\n",
    "addition = first_number+second_number;\n",
    "print(\"Answer: \",addition);"
   ]
  },
  {
   "cell_type": "code",
   "execution_count": 46,
   "id": "d23aa2a4",
   "metadata": {},
   "outputs": [
    {
     "name": "stdout",
     "output_type": "stream",
     "text": [
      "======= Marks sheet =========\n",
      "Enter english subject marks:\t20\n",
      "Enter math subject marks:\t20\n",
      "Enter islamiyat subject marks:\t20\n",
      "Enter biology subject marks:\t20\n",
      "Enter chemistry subject marks:\t20\n",
      "\n",
      "percetage is:  20.0\n",
      "Fail \n",
      "grade F\n"
     ]
    }
   ],
   "source": [
    "#Question No.7 Marksheet\n",
    "#\n",
    "print(\"======= Marks sheet =========\");\n",
    "eng = int(input(\"Enter english subject marks:\\t\"));\n",
    "math = int(input(\"Enter math subject marks:\\t\"));\n",
    "islamiyat = int(input(\"Enter islamiyat subject marks:\\t\"));\n",
    "bio = int(input(\"Enter biology subject marks:\\t\"));\n",
    "chem = int(input(\"Enter chemistry subject marks:\\t\"));\n",
    "\n",
    "obtain_marks = eng+math+islamiyat+bio+chem;\n",
    "total_marks = 500;\n",
    "percentage = obtain_marks * 100 / total_marks;\n",
    "print(\"\\npercetage is: \",percentage);\n",
    "\n",
    "if percentage > 80 and percentage < 100:\n",
    "    print(\"grade A+\");\n",
    "elif percentage > 70 and percentage < 80:\n",
    "    print(\"grade A\");\n",
    "elif percentage > 60 and percentage < 70:\n",
    "    print(\"grade B\");\n",
    "elif percentage > 50 and percentage < 60:\n",
    "    print(\"grade C\");\n",
    "elif percentage > 40 and percentage < 50:\n",
    "    print(\"grade D\");\n",
    "elif percentage > 0 and percentage < 40:\n",
    "    print(\"Fail \\ngrade F\");\n",
    "else:\n",
    "    print(\"You entered incorrect marks check and try again:\");"
   ]
  },
  {
   "cell_type": "code",
   "execution_count": 3,
   "id": "bfe8ec60",
   "metadata": {},
   "outputs": [
    {
     "name": "stdout",
     "output_type": "stream",
     "text": [
      "Enter number: 45\n",
      "45  is odd number\n"
     ]
    }
   ],
   "source": [
    "#Question No.8 check given number even or odd \n",
    "number = int(input(\"Enter number: \"));\n",
    "if (number % 2) == 0: \n",
    "    print(number,\" is even number\"); \n",
    "else:\n",
    "    print(number,\" is odd number\");"
   ]
  },
  {
   "cell_type": "code",
   "execution_count": 15,
   "id": "e3beab6b",
   "metadata": {},
   "outputs": [
    {
     "name": "stdout",
     "output_type": "stream",
     "text": [
      "3\n"
     ]
    }
   ],
   "source": [
    "#Question No.9 print length of the list\n",
    "list = ['saeed','sahzain','sharjeel'];\n",
    "print(len(list));"
   ]
  },
  {
   "cell_type": "code",
   "execution_count": 14,
   "id": "842b4be8",
   "metadata": {},
   "outputs": [
    {
     "name": "stdout",
     "output_type": "stream",
     "text": [
      "21\n"
     ]
    }
   ],
   "source": [
    "#Question No.10  Sum all the numeric items in a list\n",
    "\n",
    "number = [1,2,3,4,5,1,5]\n",
    "sum = 0\n",
    "for i in number:\n",
    "    sum +=i\n",
    "print(sum)\n"
   ]
  },
  {
   "cell_type": "code",
   "execution_count": 64,
   "id": "a9b42f1c",
   "metadata": {},
   "outputs": [
    {
     "name": "stdout",
     "output_type": "stream",
     "text": [
      "990\n"
     ]
    }
   ],
   "source": [
    "#Question No.11 get a largest number from a numeric list\n",
    "list = [1,11,3,7,100,990,101];\n",
    "larg_number = 0;\n",
    "for i in list:\n",
    "    if(i > larg_number):\n",
    "        larg_number =i\n",
    "print(larg_number)"
   ]
  },
  {
   "cell_type": "code",
   "execution_count": 83,
   "id": "078f2c67",
   "metadata": {},
   "outputs": [
    {
     "name": "stdout",
     "output_type": "stream",
     "text": [
      "[1, 1, 2, 3]\n"
     ]
    }
   ],
   "source": [
    "#Question No.12 \n",
    "list = [1,1,2,3,5,8,13,21,34,55,89];\n",
    "new_list = []\n",
    "for i in list:\n",
    "    if i < 5:\n",
    "        new_list.append(i);\n",
    "print(new_list);"
   ]
  }
 ],
 "metadata": {
  "kernelspec": {
   "display_name": "Python 3",
   "language": "python",
   "name": "python3"
  },
  "language_info": {
   "codemirror_mode": {
    "name": "ipython",
    "version": 3
   },
   "file_extension": ".py",
   "mimetype": "text/x-python",
   "name": "python",
   "nbconvert_exporter": "python",
   "pygments_lexer": "ipython3",
   "version": "3.8.8"
  }
 },
 "nbformat": 4,
 "nbformat_minor": 5
}
